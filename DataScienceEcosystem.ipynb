{
 "cells": [
  {
   "cell_type": "markdown",
   "metadata": {},
   "source": [
    "<center>\n",
    "    <img src=\"https://cf-courses-data.s3.us.cloud-object-storage.appdomain.cloud/IBMDeveloperSkillsNetwork-DS0105EN-SkillsNetwork/labs/Module2/images/SN_web_lightmode.png\" width=\"300\" alt=\"cognitiveclass.ai logo\">\n",
    "</center>\n"
   ]
  },
  {
   "cell_type": "markdown",
   "metadata": {},
   "source": [
    "Exercise 2 - Create a markdown cell with the title of the notebook. \n",
    "\n",
    "# Data Science\n",
    "\n",
    "Exercise 3 - Create a markdown cell for an introduction. (1 pt)\n",
    "\n",
    "**Introduction to the course**\n",
    "In order to be successful in Data Science, you need to be skilled with using tools that Data Science professionals employ as part of their jobs. This course teaches you about the *popular tools in Data Science* and how to use them. \n",
    "\n",
    "Exercise 4 - Create a markdown cell to list data science languages. \n",
    "\n",
    "# Data Science Languages\n",
    "\n",
    "1. Python\n",
    "2. R \n",
    "3. Java\n",
    "4. C/C++\n",
    "5. Scala\n",
    "6. Julia\n",
    "7. Matlab\n",
    "8. SQL\n",
    "   \n",
    "Exercise 5 - Create a markdown cell to list data science libraries. (3 pts)*\n",
    "\n",
    "## Data Science libraries againts different languages \n",
    "\n",
    "### Python\n",
    "* Scientific Computing Libraries - Pandas, Numpy\n",
    "* Visualization Libraries in Python - Matplotlib, Seaborn\n",
    "* Machine learning and Deep Learning libraries in Python - Scikit-learn\n",
    "* Deep learning libraries - Tenor.flow, Apache spark\n",
    "\n",
    "### R \n",
    "\n",
    "* Data manipulation - dplyr\n",
    "* String manipulation - stringr\n",
    "* Data visualization - ggplot\n",
    "* Machine learning - caret\n",
    "  \n",
    "Exercise 6 - Create a markdownn cell with a table of Data Science tools. (3 pts)\n",
    "\n",
    "| Data Science tools |\n",
    "| ------------------- |\n",
    "| R studio |\n",
    "| Jupyter notwbook |\n",
    "| Tableau |\n",
    "\n",
    "\n"
   ]
  },
  {
   "cell_type": "markdown",
   "metadata": {},
   "source": [
    "Exercise 7 - Create a markdown cell introducing arithmetic expression examples\n",
    "\n",
    "### Below are a few examples of evaluating arithmetic expressions in Python.\n"
   ]
  },
  {
   "cell_type": "code",
   "execution_count": 9,
   "metadata": {},
   "outputs": [
    {
     "data": {
      "text/plain": [
       "17"
      ]
     },
     "execution_count": 9,
     "metadata": {},
     "output_type": "execute_result"
    }
   ],
   "source": [
    "# Exercise 8 - Create a code cell to multiply and add numbers \n",
    "\n",
    "#This a simple arithmetic expression to multiply, then add integers\n",
    "\n",
    "(3*4)+5"
   ]
  },
  {
   "cell_type": "code",
   "execution_count": 12,
   "metadata": {},
   "outputs": [
    {
     "data": {
      "text/plain": [
       "3.3333333333333335"
      ]
     },
     "execution_count": 12,
     "metadata": {},
     "output_type": "execute_result"
    }
   ],
   "source": [
    "#Exercise 9 - Create a code cell to convert minutes to hours\n",
    "\n",
    "# This will convert 200 minutes to hours by diving by 60\n",
    "\n",
    "200/60"
   ]
  },
  {
   "cell_type": "markdown",
   "metadata": {},
   "source": [
    "Exercise 10 - Insert a markdown cell to list Objectives\n",
    "\n",
    "**Objectives:**\n",
    "\n",
    "- Learn about different open source data science tools\n",
    "- Introduction to Languages in Data Science\n",
    "- Libraries used for data science in R and Python\n",
    "- Diving into Application Programme Interface\n",
    "- Some Datasets Powering Data science\n",
    "\n",
    "\n"
   ]
  },
  {
   "cell_type": "markdown",
   "metadata": {},
   "source": [
    "Exercise 11 - Create a markdown cell to indicate the Author's name\n",
    "\n",
    "## Author\n",
    "Vaishnavi Haripuri"
   ]
  }
 ],
 "metadata": {
  "kernelspec": {
   "display_name": "Python 3 (ipykernel)",
   "language": "python",
   "name": "python3"
  },
  "language_info": {
   "codemirror_mode": {
    "name": "ipython",
    "version": 3
   },
   "file_extension": ".py",
   "mimetype": "text/x-python",
   "name": "python",
   "nbconvert_exporter": "python",
   "pygments_lexer": "ipython3",
   "version": "3.11.9"
  }
 },
 "nbformat": 4,
 "nbformat_minor": 4
}
